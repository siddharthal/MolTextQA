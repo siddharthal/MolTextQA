{
 "cells": [
  {
   "cell_type": "code",
   "execution_count": 6,
   "metadata": {},
   "outputs": [
    {
     "name": "stdout",
     "output_type": "stream",
     "text": [
      "failed text qa 3 failed smiles qa 0\n"
     ]
    }
   ],
   "source": [
    "import pandas as pd\n",
    "import numpy as np\n",
    "from llm_qa import join_string, process_messy_list_string\n",
    "\n",
    "# # === Prepare the evaluation data ===\n",
    "df = pd.read_csv('./new_labels/data_splits.csv', dtype=str)\n",
    "df['options'] = df['options'].apply(lambda x: process_messy_list_string(x, sep=','))\n",
    "df['smiles_option'] = df['smiles_option'].apply(lambda x: process_messy_list_string(x, sep=' '))\n",
    "df['correct'] = df['correct'].astype(int)\n",
    "df['smiles_correct'] = df['smiles_correct'].apply(lambda x: int(float(x)))\n",
    "\n",
    "# select correct from d['options'] using d['correct'] as index\n",
    "df['ans1'] = pd.NA\n",
    "df['ans2'] = pd.NA\n",
    "for i in range(len(df)):\n",
    "    if len(df['options'][i]) > df['correct'][i]-1:\n",
    "        # df['ans1'][i] = df['options'][i][df['correct'][i]-1]\n",
    "        # change to use loc\n",
    "        df.loc[i, 'ans1'] = df['options'][i][df['correct'][i]-1]\n",
    "    if len(df['smiles_option'][i]) > df['smiles_correct'][i]-1:\n",
    "        # df['ans2'][i] = df['smiles_option'][i][df['smiles_correct'][i]-1]\n",
    "        df.loc[i, 'ans2'] = df['smiles_option'][i][df['smiles_correct'][i]-1]\n",
    "print(\"failed text qa\", df['ans1'].isna().sum(), \"failed smiles qa\", df['ans2'].isna().sum())\n",
    "\n",
    "df['text1'] = \"Q: You are given a SMILES string of a molecule, a question about the molecule and a set of candidate options. Pick the best option.\\n\"+\\\n",
    "    \"SMILES_string:\"+df['SMILES']+\"\\n\"+\\\n",
    "    \"Question:\"+df['question']+'\\n'+\\\n",
    "    \"Options:\"+df['options'].apply(lambda x: join_string(x))\n",
    "df['text2'] = \"Q: You are given a sentence describing a molecule. Choose the SMILES string that best describes the SMILES string.\\n\"+\\\n",
    "    \"Sentence:\"+df['sentence']+'\\n'+\\\n",
    "    \"Options:\"+df['smiles_option'].apply(lambda x: join_string(x))\n",
    "df2 = pd.DataFrame(np.concatenate([df['text1'] + df['ans1'].astype(str), df['text2'] + df['ans2'].astype(str)]), columns=['sentence'])\n",
    "df2['split'] = np.concatenate([df['split'], df['split']])\n",
    "df2['ans'] = np.concatenate([df['ans1'], df['ans2']])\n",
    "df2['correct'] = np.concatenate([df['correct'], df['smiles_correct']])\n",
    "df2['options'] = np.concatenate([df['options'], df['smiles_option']])\n",
    "df2 = df2[df2['split']=='test']"
   ]
  },
  {
   "cell_type": "code",
   "execution_count": 9,
   "metadata": {},
   "outputs": [
    {
     "name": "stdout",
     "output_type": "stream",
     "text": [
      "model, finetuned, accuracy\n",
      "galactica-125m, True\n",
      "galactica-1.3b, True\n",
      "galactica-6.7b, True\n",
      "molt5-large, True\n",
      "molt5-large-caption2smiles, True\n",
      "molt5-large-smiles2caption, True\n"
     ]
    }
   ],
   "source": [
    "import json\n",
    "import os\n",
    "import editdistance\n",
    "from rouge_score import rouge_scorer\n",
    "\n",
    "def extract_answer(text):\n",
    "    ans = text.split('\\n\\nAnswer:')[-1].split('</s>')[0]\n",
    "    return ans\n",
    "\n",
    "scorer = rouge_scorer.RougeScorer(['rouge1', 'rougeL'], use_stemmer=True)\n",
    "\n",
    "print(\"model, finetuned, accuracy\")\n",
    "all_y_pred = []\n",
    "models = ['galactica-125m', 'galactica-1.3b', 'galactica-6.7b', 'molt5-large','molt5-large-caption2smiles','molt5-large-smiles2caption']\n",
    "for model in models:\n",
    "    for load_finetuned in [False, True]:\n",
    "        path = f'./outputs1/{model}_load_finetuned={load_finetuned}.json'\n",
    "        with open(path) as f:\n",
    "            data = json.load(f)\n",
    "\n",
    "        # print(model, load_finetuned, len(data))\n",
    "        answers = [extract_answer(x) for x in data]\n",
    "        num_errors = [i for i in range(len(answers)) if answers[i]=='ERROR']\n",
    "        # print(\"num_errors\", len(num_errors))\n",
    "        # print(\"answer\", answers[:10])\n",
    "        if model == 'molt5-large-caption2smiles':\n",
    "            answers = ([\"\"] * (len(df2)//2)) + answers # add empty string to the first half, since we are only interested in the second half\n",
    "        if model == 'molt5-large-smiles2caption':\n",
    "            answers = answers + ([\"\"] * (len(df2)//2))\n",
    "\n",
    "        y_pred = []\n",
    "        y_true = []\n",
    "        # first half is smiles to text, second half is text to smiles\n",
    "        for i in range(0, len(df2)//2):\n",
    "            options = df2['options'].values[i]\n",
    "            rogue_score_pred = [scorer.score(option, answers[i])['rouge1'].fmeasure for option in options]\n",
    "            max_rouge_score = np.argmax(rogue_score_pred)\n",
    "            y_pred.append(max_rouge_score)\n",
    "            y_true.append(df2['correct'].values[i]-1)\n",
    "        for i in range(len(df2)//2, len(df2)):\n",
    "            options = df2['options'].values[i]\n",
    "            editdistance_pred = [editdistance.eval(option, answers[i]) for option in options] \n",
    "            min_editdistance = np.argmin(editdistance_pred)\n",
    "            y_pred.append(min_editdistance)\n",
    "            y_true.append(df2['correct'].values[i]-1)\n",
    "\n",
    "        all_y_pred.append(y_pred)\n",
    "        print(f\"{model}, {load_finetuned}\")\n",
    "\n",
    "# === Save the predictions ===\n",
    "model_names = [model + \"_finetuned=\" + str(load_finetuned) for model in models for load_finetuned in [True]]\n",
    "for i, model_name in enumerate(model_names):\n",
    "    df2[model_name] = all_y_pred[i]\n",
    "df2.iloc[:len(df2)//2].to_csv('forward_predictions.csv', index=False)\n",
    "df2.iloc[len(df2)//2:].to_csv('reverse_predictions.csv', index=False)"
   ]
  },
  {
   "cell_type": "code",
   "execution_count": 11,
   "metadata": {},
   "outputs": [
    {
     "name": "stdout",
     "output_type": "stream",
     "text": [
      "(12092, 11) (12092, 11)\n",
      "Model, Forward Accuracy, Reverse Accuracy\n",
      "galactica-125m_finetuned=True , 0.4397122064174661 , 0.2161759841217334\n",
      "galactica-1.3b_finetuned=True , 0.6098246774727092 , 0.22171683757856434\n",
      "galactica-6.7b_finetuned=True , 0.6901257029440953 , 0.2230400264637777\n",
      "molt5-large_finetuned=True , 0.3414654316903738 , 0.23544492226265298\n",
      "molt5-large-caption2smiles_finetuned=True , 0.14207740654978498 , 0.22998676811114788\n",
      "molt5-large-smiles2caption_finetuned=True , 0.34692358584187893 , 0.23858749586503472\n"
     ]
    }
   ],
   "source": [
    "import pandas as pd\n",
    "forward_preds = pd.read_csv('forward_predictions.csv')\n",
    "reverse_preds = pd.read_csv('reverse_predictions.csv')\n",
    "print(forward_preds.shape, reverse_preds.shape)\n",
    "print(\"Model, Forward Accuracy, Reverse Accuracy\")\n",
    "# for mname in ['galactica-125m_finetuned=False', 'galactica-125m_finetuned=True', 'galactica-1.3b_finetuned=False', 'galactica-1.3b_finetuned=True', 'galactica-6.7b_finetuned=False', 'galactica-6.7b_finetuned=True', 'molt5-large_finetuned=False', 'molt5-large_finetuned=True', 'molt5-large-caption2smiles_finetuned=False', 'molt5-large-caption2smiles_finetuned=True', 'molt5-large-smiles2caption_finetuned=False', 'molt5-large-smiles2caption_finetuned=True']:\n",
    "for mname in ['galactica-125m_finetuned=True', 'galactica-1.3b_finetuned=True', 'galactica-6.7b_finetuned=True', 'molt5-large_finetuned=True', 'molt5-large-caption2smiles_finetuned=True', 'molt5-large-smiles2caption_finetuned=True']:\n",
    "    print(mname, ',',\n",
    "            np.mean(forward_preds[mname] == forward_preds['correct']-1), ',',\n",
    "            np.mean(reverse_preds[mname] == reverse_preds['correct']-1))"
   ]
  },
  {
   "cell_type": "code",
   "execution_count": 67,
   "metadata": {},
   "outputs": [],
   "source": [
    "# from transformers import AutoTokenizer\n",
    "# from peft import LoraConfig, get_peft_model, TaskType, AutoPeftModelForCausalLM, AutoPeftModelForSeq2SeqLM\n",
    "\n",
    "# tokenizer = AutoTokenizer.from_pretrained(\"laituan245/molt5-large-caption2smiles\")\n",
    "# model = AutoPeftModelForSeq2SeqLM.from_pretrained(\"./finetuned_models1/molt5-large/\")"
   ]
  },
  {
   "cell_type": "code",
   "execution_count": 2,
   "metadata": {},
   "outputs": [],
   "source": [
    "# import pandas as pd\n",
    "# # import ast\n",
    "\n",
    "# finetune_d = pd.read_csv(\"/srv/local/data/chufan2/molqa/galactica_finetuning.csv\", dtype=str)\n",
    "# finetune_d['sentence'] = \"Q: \"+finetune_d['Q'] + \"\\n\\nAnswer: \" + finetune_d['A']\n",
    "# finetune_d['sentence'].values\n",
    "# # print(finetune_d.columns)  #Index(['Unnamed: 0', 'CID', 'smiles', 'Q', 'A', 'type', 'sentence'], dtype='object')\n",
    "\n",
    "# # '''\n",
    "# # Q: You are given a SMILES string of a molecule, a question about the molecule and a set of candidate options. Pick the best option.\n",
    "# # SMILES_string:[START_I_SMILES]CC(=O)OC(C)=O[END_I_SMILES]\n",
    "# # Question:What is the functional group present in the molecule?\n",
    "# # Options:(1)Aldehyde\n",
    "# # (2)Ketone\n",
    "# # (3)Carboxylic acid\n",
    "# # (4)Amide\n",
    "# # (5)Ester\n",
    "\n",
    "# # Answer:\n",
    "# # '''\n",
    "# # '''\n",
    "# # Q: You are given a sentence describing a molecule. Choose the SMILES string that best describes the SMILES string.\n",
    "# # Sentence:The functional group present in the molecule is <Carboxylic acid>\n",
    "# # Options:(1)C=C(C)[C@H]1Oc2ccc([C@H](C)O)cc2[C@@H]1O\n",
    "# # (2)OCCOCCOCCO\n",
    "# # (3)CCCCC/C=C\\C/C=C\\C/C=C\\CC1OC1CCCC(=O)SCCNC(=O)CCNC(=O)[C@H](O)C(C)(C)COP(=O)([O-])OP(=O)([O-])OC[C@H]1O[C@@H](n2cnc3c(N)ncnc32)[C@H](O)[C@@H]1OP(=O)([O-])[O-]\n",
    "# # (4)CC(=O)OC(C)=O\n",
    "# # (5)CC1=C(/C=C/C(C)=C/C=C/C(C)=C/C=C/C=C(C)/C=C/C=C(\\C)[C@H]2C=C3C(C)(C)C[C@H](O)C[C@@]3(C)O2)C(C)(C)C[C@H](O)C1\n",
    "\n",
    "# # Answer: (4)[START_I_SMILES]CC(=O)OC(C)=O[END_I_SMILES]\n",
    "# # '''\n",
    "\n",
    "# eval_d = pd.read_csv(\"/srv/local/data/chufan2/molqa/goldstandard_galactica_validated.csv\", dtype=str)\n",
    "# eval_d['options'] = eval_d['options'].apply(lambda x: eval_string(x))\n",
    "# eval_d['smiles_options'] = eval_d['smiles_options'].apply(lambda x: eval_smiles(x))\n",
    "# eval_d['text1'] = \"Q: You are given a SMILES string of a molecule, a question about the molecule and a set of candidate options. Pick the best option.\\n\"+\\\n",
    "#     \"SMILES_string:[START_I_SMILES]\"+eval_d['smiles']+\"[END_I_SMILES]\\n\"+\\\n",
    "#     \"Question:\"+eval_d['question']+'\\n'+\\\n",
    "#     \"Options:\"+eval_d['options']+'\\n\\nAnswer:'\n",
    "# eval_d['text2'] = \"Q: You are given a sentence describing a molecule. Choose the SMILES string that best describes the SMILES string.\\n\"+\\\n",
    "#     \"Sentence:\"+eval_d['sentence']+'\\n'+\\\n",
    "#     \"Options:\"+eval_d['smiles_options']+'\\n\\nAnswer:'"
   ]
  }
 ],
 "metadata": {
  "kernelspec": {
   "display_name": "molqa",
   "language": "python",
   "name": "python3"
  },
  "language_info": {
   "codemirror_mode": {
    "name": "ipython",
    "version": 3
   },
   "file_extension": ".py",
   "mimetype": "text/x-python",
   "name": "python",
   "nbconvert_exporter": "python",
   "pygments_lexer": "ipython3",
   "version": "3.11.9"
  }
 },
 "nbformat": 4,
 "nbformat_minor": 2
}
